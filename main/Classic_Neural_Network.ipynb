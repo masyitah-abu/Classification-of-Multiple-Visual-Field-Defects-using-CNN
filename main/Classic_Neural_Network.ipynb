{
  "nbformat": 4,
  "nbformat_minor": 0,
  "metadata": {
    "colab": {
      "name": "Classic Neural Network",
      "provenance": [],
      "collapsed_sections": []
    },
    "kernelspec": {
      "name": "python3",
      "display_name": "Python 3"
    },
    "accelerator": "GPU"
  },
  "cells": [
    {
      "cell_type": "code",
      "metadata": {
        "id": "dbUeIyZHwdOI"
      },
      "source": [
        "from google.colab import drive\n",
        "drive.mount('/content/drive')"
      ],
      "execution_count": null,
      "outputs": []
    },
    {
      "cell_type": "code",
      "metadata": {
        "id": "MpTA8GHx6HN5"
      },
      "source": [
        "import keras\n",
        "import numpy as np\n",
        "import matplotlib.pyplot as plt\n",
        "import os\n",
        "import cv2\n",
        "from tqdm import tqdm\n",
        " \n",
        "DATADIR = \"/content/drive/My Drive/eye_resize(224,224)/\"\n",
        "CATEGORIES = [\"central\", \"hemianopia\",\"normal\",\"quadratopia\",\"superior\",\"turnel\"]\n",
        " \n",
        "for category in CATEGORIES:  # do dogs and cats\n",
        "    path = os.path.join(DATADIR,category)  # create path to dogs and cats\n",
        "    for img in os.listdir(path):  # iterate over each image per dogs and cats\n",
        "        img_array = cv2.imread(os.path.join(path,img) )  # convert to array ,cv2.IMREAD_GRAYSCALE\n",
        "        #plt.imshow(img_array, cmap='gray')  # graph it\n",
        "        #plt.show()  # display!\n",
        " \n",
        "        break  # we just want one for now so break\n",
        "    break \n",
        " \n",
        "training_data = []\n",
        " \n",
        "def create_training_data():\n",
        "    for category in CATEGORIES:  # do dogs and cats\n",
        " \n",
        "        path = os.path.join(DATADIR,category)  # create path to dogs and cats\n",
        "        class_num = CATEGORIES.index(category)  # get the classification  (0 or a 1). 0=dog 1=cat\n",
        " \n",
        "        for img in tqdm(os.listdir(path)):  # iterate over each image per dogs and cats\n",
        "            img_array = cv2.imread(os.path.join(path,img),cv2.IMREAD_GRAYSCALE)  # convert to array ,cv2.IMREAD_GRAYSCALE\n",
        "            new_array = cv2.resize(img_array, (32, 32))  # resize to normalize data size\n",
        "            training_data.append([new_array, class_num])  # add this to our training_data\n",
        " \n",
        "create_training_data()\n",
        " \n",
        "print(len(training_data))"
      ],
      "execution_count": null,
      "outputs": []
    },
    {
      "cell_type": "code",
      "metadata": {
        "id": "KObV8ixyNiVm"
      },
      "source": [
        "import tensorflow as tf\n",
        "from tensorflow.keras.models import Sequential\n",
        "from tensorflow.keras.layers import Dense, Dropout, Activation, Flatten\n",
        "from tensorflow.keras.layers import Conv2D, MaxPooling2D\n",
        "from sklearn.utils import shuffle\n",
        "from sklearn.model_selection import train_test_split, cross_val_score\n",
        "import time\n",
        "from sklearn import svm\n",
        "\n",
        "start = time.time()\n",
        "\n",
        "model_history = []\n",
        "acc = []\n",
        "\n",
        "for i in range(5):\n",
        "  print(\"Training fold:\", i+1)\n",
        "  #X, y = shuffle(X, y, random_state=0)\n",
        "  X = []\n",
        "  y = []\n",
        "\n",
        "  for features,label in training_data:\n",
        "      X.append(features)\n",
        "      y.append(label)\n",
        "  \n",
        "  X = np.asarray(X,dtype=np.float32)/255.0\n",
        "  n_samples = len(X)\n",
        "  X = X.reshape((n_samples, -1))\n",
        "\n",
        "  X_train, X_test, y_train, y_test = train_test_split(X, y,shuffle=True,test_size=0.20,stratify=y, random_state=42)\n",
        "\n",
        "  x_train = np.asarray(X_train,dtype=np.float32)/255.0\n",
        "  #print(\"image shape:\",x_train.shape)\n",
        "  y_train = keras.utils.to_categorical(y_train, num_classes=6, dtype='float32')\n",
        "  x_test = np.asarray(X_test,dtype=np.float32)/255.0\n",
        "  #print(\"image shape:\",x_test[0].shape)\n",
        "  y_test2 = keras.utils.to_categorical(y_test, num_classes=6, dtype='float32')\n",
        "  #add dimentional\n",
        "  x_train = x_train[...,np.newaxis]\n",
        "  x_test2 = x_test[...,np.newaxis]\n",
        "\n",
        "  model = Sequential()\n",
        "  model.add(Conv2D(32, kernel_size=(3, 3),activation='relu',input_shape=(32,32,1)))\n",
        "  model.add(MaxPooling2D(pool_size=(2,2)))\n",
        "  model.add(Dense(128, activation='relu'))\n",
        "  model.add(Dense(6, activation='softmax'))\n",
        "  model.compile(loss='categorical_crossentropy',\n",
        "              optimizer='adam',\n",
        "              metrics=['accuracy'])\n",
        "\n",
        "  history = model.fit(x_train,y_train,validation_data=(x_test2,y_test2),batch_size=32,epochs=50)\n",
        "  score=model.evaluate(x_test2,y_test2,verbose=0)\n",
        "  print(\"accuracy = \",score[1])\n",
        "  acc.append(score[1])\n",
        "  model_history.append(history)\n",
        "\n",
        "end = time.time()\n",
        "\n",
        "print(f\"time taken = {end-start}\")"
      ],
      "execution_count": null,
      "outputs": []
    },
    {
      "cell_type": "code",
      "metadata": {
        "id": "V5atkKulpTuH"
      },
      "source": [
        "print('accuracy=',(acc[0]+acc[1]+acc[2]+acc[3]+acc[4])/5)\n",
        "\n",
        "plt.title('KFold accuracy[%]')\n",
        "plt.plot([1,2,3,4,5],acc)\n",
        "#ax=plt.subplot(111)\n",
        "#ax.set_xlim(1,5)\n",
        "dim=np.arange(1,5,1)\n",
        "plt.xlabel(\"KFold\")\n",
        "plt.ylabel(\"Accuracy[%]\")\n",
        "plt.xticks(dim)\n",
        "plt.legend()\n",
        "plt.show()\n"
      ],
      "execution_count": null,
      "outputs": []
    },
    {
      "cell_type": "code",
      "metadata": {
        "id": "EPMc8dNilTtF"
      },
      "source": [
        "\"\"\"\n",
        "import glob\n",
        "\n",
        "dir2 = sorted(glob.glob('/content/drive/My Drive/Sakura program/Sakura Sciences(Nishizaki sensei & Leow senpai)/defect_dataset1/crazing/*'))  \n",
        "\n",
        "for path in dir2:  \n",
        "  img = cv2.imread(path,cv2.IMREAD_GRAYSCALE)\n",
        "  img = cv2.resize(img,(32,32))\n",
        "  img = np.asarray(img,dtype=np.float32)/255.0 \n",
        "  #img = img[...,np.newaxis]\n",
        "  img = np.reshape(img,[1,32,32,1])\n",
        "\n",
        "  pred =np.argmax(model.predict(img)[0])\n",
        "  if pred == 0:\n",
        "    print(\"The predict image is = crazing\")\n",
        "  elif pred == 1:\n",
        "    print(\"The predict image is = inclusion\")\n",
        "  elif pred == 2:\n",
        "    print(\"The predict image is = patches\")\n",
        "  elif pred == 3:\n",
        "    print(\"The predict image is = pitted surface\")\n",
        "  elif pred == 4:\n",
        "    print(\"The predict image is = rolled in scale\")\n",
        "  elif pred == 5:\n",
        "    print(\"The predict image is = scratches\")\n",
        "\"\"\"\n",
        "\n",
        "from sklearn.metrics import classification_report\n",
        "predictions = model.predict(x_test2)\n",
        "predictions[0]\n",
        "np.argmax(predictions[0])\n",
        "\n",
        "\n",
        "pred=[]\n",
        "for i in range(470):\n",
        "\tpredictions[i]\n",
        "\tA=np.argmax(predictions[i])\n",
        "\tpred.append(A)\n",
        "\n",
        "print(classification_report(pred,y_test,target_names=CATEGORIES))\n",
        "\n"
      ],
      "execution_count": null,
      "outputs": []
    },
    {
      "cell_type": "code",
      "metadata": {
        "id": "FicX86tyjbfx"
      },
      "source": [
        "%matplotlib inline\n",
        "from sklearn.metrics import confusion_matrix\n",
        "import itertools\n",
        "import matplotlib.pyplot as plt\n",
        "\n",
        "cm = confusion_matrix(y_true=y_test, y_pred=pred)\n",
        "\n",
        "def plot_confusion_matrix(cm, classes,\n",
        "    normalize=True,\n",
        "    title='Confusion matrix',\n",
        "    cmap=plt.cm.Blues):\n",
        "    \"\"\"\n",
        "    This function prints and plots the confusion matrix.\n",
        "    Normalization can be applied by setting `normalize=True`.\n",
        "    \"\"\"\n",
        "    plt.imshow(cm, interpolation='nearest', cmap=cmap)\n",
        "    plt.title(title)\n",
        "   # plt.colorbar()\n",
        "    tick_marks = np.arange(len(classes))\n",
        "    plt.xticks(tick_marks, classes, rotation=0)\n",
        "    plt.yticks(tick_marks, classes)\n",
        "\n",
        "    if normalize:\n",
        "        cm = cm.astype('float') / cm.sum(axis=1)[:, np.newaxis]\n",
        "        print(\"Normalized confusion matrix\")\n",
        "    else:\n",
        "        print('Confusion matrix, without normalization')\n",
        "\n",
        "    print(cm)\n",
        "\n",
        "    thresh = cm.max() / 2.\n",
        "    for i, j in itertools.product(range(cm.shape[0]), range(cm.shape[1])):\n",
        "        plt.text(j, i, format(cm[i, j], '.2f'),\n",
        "                 horizontalalignment=\"center\",\n",
        "                 color=\"white\" if cm[i, j] > thresh else \"black\")\n",
        "\n",
        "    plt.tight_layout()\n",
        "    plt.ylabel('True label')\n",
        "    plt.xlabel('Predicted label')"
      ],
      "execution_count": null,
      "outputs": []
    },
    {
      "cell_type": "code",
      "metadata": {
        "id": "COJ8rn29jitf"
      },
      "source": [
        "cm_plot_labels = ['central', 'hemianopia','normal','quadratopia','superior','turnel']\n",
        "plot_confusion_matrix(cm=cm, classes=cm_plot_labels, title='Confusion Matrix')"
      ],
      "execution_count": null,
      "outputs": []
    },
    {
      "cell_type": "code",
      "metadata": {
        "id": "m3foa7mhkGEM"
      },
      "source": [
        "#K.utils.plot_model(model,show_shapes=True)\n",
        "model.summary()"
      ],
      "execution_count": null,
      "outputs": []
    }
  ]
}