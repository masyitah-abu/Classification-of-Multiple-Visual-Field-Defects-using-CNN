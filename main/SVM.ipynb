{
  "nbformat": 4,
  "nbformat_minor": 0,
  "metadata": {
    "colab": {
      "name": "SVM",
      "provenance": [],
      "collapsed_sections": []
    },
    "kernelspec": {
      "name": "python3",
      "display_name": "Python 3"
    },
    "accelerator": "GPU"
  },
  "cells": [
    {
      "cell_type": "code",
      "metadata": {
        "id": "dbUeIyZHwdOI"
      },
      "source": [
        "from google.colab import drive\n",
        "drive.mount('/content/drive')"
      ],
      "execution_count": null,
      "outputs": []
    },
    {
      "cell_type": "code",
      "metadata": {
        "id": "MpTA8GHx6HN5"
      },
      "source": [
        "import keras\n",
        "import numpy as np\n",
        "import matplotlib.pyplot as plt\n",
        "import os\n",
        "import cv2\n",
        "from tqdm import tqdm\n",
        " \n",
        "DATADIR = \"/content/drive/My Drive/eye_resize(224,224)/\"\n",
        "CATEGORIES = [\"central\", \"hemianopia\",\"normal\",\"quadratopia\",\"superior\",\"turnel\"]\n",
        " \n",
        "for category in CATEGORIES:  # do dogs and cats\n",
        "    path = os.path.join(DATADIR,category)  # create path to dogs and cats\n",
        "    for img in os.listdir(path):  # iterate over each image per dogs and cats\n",
        "        img_array = cv2.imread(os.path.join(path,img) )  # convert to array ,cv2.IMREAD_GRAYSCALE\n",
        "        #plt.imshow(img_array, cmap='gray')  # graph it\n",
        "        #plt.show()  # display!\n",
        " \n",
        "        break  # we just want one for now so break\n",
        "    break \n",
        " \n",
        "training_data = []\n",
        " \n",
        "def create_training_data():\n",
        "    for category in CATEGORIES:  # do dogs and cats\n",
        " \n",
        "        path = os.path.join(DATADIR,category)  # create path to dogs and cats\n",
        "        class_num = CATEGORIES.index(category)  # get the classification  (0 or a 1). 0=dog 1=cat\n",
        " \n",
        "        for img in tqdm(os.listdir(path)):  # iterate over each image per dogs and cats\n",
        "            img_array = cv2.imread(os.path.join(path,img),cv2.IMREAD_GRAYSCALE)  # convert to array ,cv2.IMREAD_GRAYSCALE\n",
        "            new_array = cv2.resize(img_array, (32, 32))  # resize to normalize data size\n",
        "            training_data.append([new_array, class_num])  # add this to our training_data\n",
        " \n",
        "create_training_data()\n",
        " \n",
        "print(len(training_data))"
      ],
      "execution_count": null,
      "outputs": []
    },
    {
      "cell_type": "code",
      "metadata": {
        "id": "KObV8ixyNiVm",
        "colab": {
          "base_uri": "https://localhost:8080/",
          "height": 168
        },
        "outputId": "7d141159-34cb-496d-cd63-8762c12fc933"
      },
      "source": [
        "import tensorflow as tf\n",
        "from tensorflow.keras.models import Sequential\n",
        "from tensorflow.keras.layers import Dense, Dropout, Activation, Flatten\n",
        "from tensorflow.keras.layers import Conv2D, MaxPooling2D\n",
        "from sklearn.utils import shuffle\n",
        "from sklearn.model_selection import train_test_split, cross_val_score\n",
        "import time\n",
        "from sklearn import svm\n",
        "\n",
        "start = time.time()\n",
        "\n",
        "X = []\n",
        "y = []\n",
        "\n",
        "for features,label in training_data:\n",
        "  X.append(features)\n",
        "  y.append(label)\n",
        "  \n",
        "X = np.asarray(X,dtype=np.float32)/255.0\n",
        "n_samples = len(X)\n",
        "X = X.reshape((n_samples, -1))\n",
        "#print(X.shape)\n",
        "#y = keras.utils.to_categorical(y, num_classes=6, dtype='float32')\n",
        "\n",
        "X_train, X_test, y_train, y_test = train_test_split(X, y,shuffle=True,test_size=0.20,stratify=y, random_state=42)\n",
        "\n",
        "clf = svm.SVC(gamma=0.001)\n",
        "clf.fit(X_train,y_train)\n",
        "score=cross_val_score(clf, X_train, y_train, cv=5)\n",
        "print(score)\n",
        "end = time.time()\n",
        "\n",
        "print(f\"time taken = {end-start}\")\n",
        "\n",
        "from sklearn import metrics\n",
        "from sklearn.metrics import confusion_matrix\n",
        "\n",
        "predictions = clf.predict(X_test)\n",
        "print(metrics.accuracy_score(y_true=y_test, y_pred=predictions))\n",
        "print(metrics.confusion_matrix(y_true=y_test, y_pred=predictions))"
      ],
      "execution_count": null,
      "outputs": [
        {
          "output_type": "stream",
          "text": [
            "[0.7606383  0.73670213 0.76861702 0.74933333 0.712     ]\n",
            "time taken = 23.582041263580322\n",
            "0.7914893617021277\n",
            "[[54  0 11  8  0  7]\n",
            " [ 4 60  2  7  8  1]\n",
            " [ 4  0 52  2  0  0]\n",
            " [ 6  4  3 82  1  0]\n",
            " [ 3  0  7  5 68  0]\n",
            " [ 0  3  2  7  3 56]]\n"
          ],
          "name": "stdout"
        }
      ]
    },
    {
      "cell_type": "code",
      "metadata": {
        "id": "V5atkKulpTuH",
        "colab": {
          "base_uri": "https://localhost:8080/",
          "height": 329
        },
        "outputId": "b75c5909-bf2f-4473-b711-7555e2739e82"
      },
      "source": [
        "\"\"\"\n",
        "plt.plot(history.history['loss'], label = \"Train\") \n",
        "plt.plot(history.history['val_loss'], label = \"Validation\")\n",
        "plt.title(\"losses\")\n",
        "plt.xlabel(\"epochs\")\n",
        "plt.ylabel(\"loss\")\n",
        "plt.show()\n",
        "plt.plot(history.history['accuracy'], label = \"Train\")\n",
        "plt.plot(history.history['val_accuracy'], label = \"Validation\") \n",
        "plt.title(\"Model Accuracy\")\n",
        "plt.xlabel(\"epochs\")\n",
        "plt.ylabel(\"Accuracy[%]\")\n",
        "plt.legend()\n",
        "plt.show()\n",
        "\"\"\"\n",
        "\"\"\"\n",
        "plt.title('Train Accuracy vs Val Accuracy')\n",
        "#plt.plot(model_history[0].history['accuracy'], label='Train Accuracy Fold 1', color='black')\n",
        "#plt.plot(model_history[0].history['val_accuracy'], label='Val Accuracy Fold 1', color='black', linestyle = \"dashdot\")\n",
        "#plt.plot(model_history[1].history['accuracy'], label='Train Accuracy Fold 2', color='red', )\n",
        "#plt.plot(model_history[1].history['val_accuracy'], label='Val Accuracy Fold 2', color='red', linestyle = \"dashdot\")\n",
        "#plt.plot(model_history[2].history['accuracy'], label='Train Accuracy Fold 3', color='green', )\n",
        "#plt.plot(model_history[2].history['val_accuracy'], label='Val Accuracy Fold 3', color='green', linestyle = \"dashdot\")\n",
        "#plt.plot(model_history[3].history['accuracy'], label='Train Accuracy Fold 3', color='orange', )\n",
        "#plt.plot(model_history[3].history['val_accuracy'], label='Val Accuracy Fold 3', color='orange', linestyle = \"dashdot\")\n",
        "plt.plot(model_history[2].history['accuracy'], label='Train Accuracy', color='blue', )\n",
        "plt.plot(model_history[2].history['val_accuracy'], label='Val Accuracy', color='red', linestyle = \"dashdot\")\n",
        "plt.legend()\n",
        "plt.show()\n",
        "\n",
        "print('accuracy=',(acc[0]+acc[1]+acc[2]+acc[3]+acc[4])/5)\n",
        "\n",
        "plt.title('KFold accuracy[%]')\n",
        "plt.plot([1,2,3,4,5],acc)\n",
        "#ax=plt.subplot(111)\n",
        "#ax.set_xlim(1,5)\n",
        "dim=np.arange(1,5,1)\n",
        "plt.xlabel(\"KFold\")\n",
        "plt.ylabel(\"Accuracy[%]\")\n",
        "plt.xticks(dim)\n",
        "plt.legend()\n",
        "plt.show()\n",
        "\"\"\"\n",
        "print('accuracy=',(score[0]+score[1]+score[2]+score[3]+score[4])/5)\n",
        "\n",
        "plt.title('KFold accuracy[%]')\n",
        "plt.plot([1,2,3,4,5],score)\n",
        "#ax=plt.subplot(111)\n",
        "#ax.set_xlim(1,5)\n",
        "dim=np.arange(1,5,1)\n",
        "plt.xlabel(\"KFold\")\n",
        "plt.ylabel(\"Accuracy[%]\")\n",
        "plt.xticks(dim)\n",
        "plt.legend()\n",
        "plt.show()"
      ],
      "execution_count": null,
      "outputs": [
        {
          "output_type": "stream",
          "text": [
            "No handles with labels found to put in legend.\n"
          ],
          "name": "stderr"
        },
        {
          "output_type": "stream",
          "text": [
            "accuracy= 0.7454581560283687\n"
          ],
          "name": "stdout"
        },
        {
          "output_type": "display_data",
          "data": {
            "image/png": "[encoded data removed]",
            "text/plain": [
              "<Figure size 432x288 with 1 Axes>"
            ]
          },
          "metadata": {
            "tags": [],
            "needs_background": "light"
          }
        }
      ]
    },
    {
      "cell_type": "code",
      "metadata": {
        "id": "EPMc8dNilTtF"
      },
      "source": [
        "\"\"\"\n",
        "import glob\n",
        "\n",
        "dir2 = sorted(glob.glob('/content/drive/My Drive/Sakura program/Sakura Sciences(Nishizaki sensei & Leow senpai)/defect_dataset1/crazing/*'))  \n",
        "\n",
        "for path in dir2:  \n",
        "  img = cv2.imread(path,cv2.IMREAD_GRAYSCALE)\n",
        "  img = cv2.resize(img,(32,32))\n",
        "  img = np.asarray(img,dtype=np.float32)/255.0 \n",
        "  #img = img[...,np.newaxis]\n",
        "  img = np.reshape(img,[1,32,32,1])\n",
        "\n",
        "  pred =np.argmax(model.predict(img)[0])\n",
        "  if pred == 0:\n",
        "    print(\"The predict image is = crazing\")\n",
        "  elif pred == 1:\n",
        "    print(\"The predict image is = inclusion\")\n",
        "  elif pred == 2:\n",
        "    print(\"The predict image is = patches\")\n",
        "  elif pred == 3:\n",
        "    print(\"The predict image is = pitted surface\")\n",
        "  elif pred == 4:\n",
        "    print(\"The predict image is = rolled in scale\")\n",
        "  elif pred == 5:\n",
        "    print(\"The predict image is = scratches\")\n",
        "\"\"\"\n",
        "\n",
        "from sklearn.metrics import classification_report\n",
        "predictions = clf.predict(X_test)\n",
        "predictions[0]\n",
        "np.argmax(predictions[0])\n",
        "\n",
        "\n",
        "pred=[]\n",
        "for i in range(470):\n",
        "\tpredictions[i]\n",
        "\tA=np.argmax(predictions[i])\n",
        "\tpred.append(A)\n",
        "\n",
        "print(classification_report(pred,y_test,target_names=CATEGORIES))\n",
        "\n"
      ],
      "execution_count": null,
      "outputs": []
    },
    {
      "cell_type": "code",
      "metadata": {
        "id": "FicX86tyjbfx"
      },
      "source": [
        "%matplotlib inline\n",
        "from sklearn.metrics import confusion_matrix\n",
        "import itertools\n",
        "import matplotlib.pyplot as plt\n",
        "\n",
        "cm = confusion_matrix(y_true=y_test, y_pred=predictions)\n",
        "\n",
        "def plot_confusion_matrix(cm, classes,\n",
        "    normalize=True,\n",
        "    title='Confusion matrix',\n",
        "    cmap=plt.cm.Blues):\n",
        "    \"\"\"\n",
        "    This function prints and plots the confusion matrix.\n",
        "    Normalization can be applied by setting `normalize=True`.\n",
        "    \"\"\"\n",
        "    plt.imshow(cm, interpolation='nearest', cmap=cmap)\n",
        "    plt.title(title)\n",
        "   # plt.colorbar()\n",
        "    tick_marks = np.arange(len(classes))\n",
        "    plt.xticks(tick_marks, classes, rotation=0)\n",
        "    plt.yticks(tick_marks, classes)\n",
        "\n",
        "    if normalize:\n",
        "        cm = cm.astype('float') / cm.sum(axis=1)[:, np.newaxis]\n",
        "        print(\"Normalized confusion matrix\")\n",
        "    else:\n",
        "        print('Confusion matrix, without normalization')\n",
        "\n",
        "    print(cm)\n",
        "\n",
        "    thresh = cm.max() / 2.\n",
        "    for i, j in itertools.product(range(cm.shape[0]), range(cm.shape[1])):\n",
        "        plt.text(j, i, format(cm[i, j], '.2f'),\n",
        "                 horizontalalignment=\"center\",\n",
        "                 color=\"white\" if cm[i, j] > thresh else \"black\")\n",
        "\n",
        "    plt.tight_layout()\n",
        "    plt.ylabel('True label')\n",
        "    plt.xlabel('Predicted label')"
      ],
      "execution_count": null,
      "outputs": []
    },
    {
      "cell_type": "code",
      "metadata": {
        "id": "COJ8rn29jitf"
      },
      "source": [
        "cm_plot_labels = ['central', 'hemianopia','normal','quadratopia','superior','turnel']\n",
        "plot_confusion_matrix(cm=cm, classes=cm_plot_labels, title='Confusion Matrix')"
      ],
      "execution_count": null,
      "outputs": []
    },
    {
      "cell_type": "code",
      "metadata": {
        "id": "m3foa7mhkGEM"
      },
      "source": [
        "#K.utils.plot_model(model,show_shapes=True)\n",
        "model.summary()"
      ],
      "execution_count": null,
      "outputs": []
    }
  ]
}